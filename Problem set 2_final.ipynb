{
 "cells": [
  {
   "cell_type": "markdown",
   "id": "5ec5ff10",
   "metadata": {},
   "source": [
    "# Problem set 02 "
   ]
  },
  {
   "cell_type": "markdown",
   "id": "cc500c92",
   "metadata": {},
   "source": [
    "# Question 01"
   ]
  },
  {
   "cell_type": "code",
   "execution_count": 1,
   "id": "a5ff027c",
   "metadata": {},
   "outputs": [
    {
     "name": "stdout",
     "output_type": "stream",
     "text": [
      "func_b starts\n",
      "func_c strats\n",
      "func_b starts\n",
      "func_c strats\n",
      "func_b starts\n",
      "func_c strats\n"
     ]
    },
    {
     "data": {
      "text/plain": [
       "6"
      ]
     },
     "execution_count": 1,
     "metadata": {},
     "output_type": "execute_result"
    }
   ],
   "source": [
    "a = 0\n",
    "def b():\n",
    "    print(\"func_b starts\")\n",
    "    global a\n",
    "    a = c(a)\n",
    "    \n",
    "def c(a):\n",
    "    print(\"func_c strats\")\n",
    "    return a + 2\n",
    "\n",
    "b()\n",
    "b()\n",
    "b()\n",
    "a\n",
    "\n"
   ]
  },
  {
   "cell_type": "code",
   "execution_count": 2,
   "id": "2dfb9c31",
   "metadata": {},
   "outputs": [
    {
     "name": "stdout",
     "output_type": "stream",
     "text": [
      "func_b starts\n",
      "func_c strats\n",
      "func_b starts\n",
      "func_c strats\n",
      "func_b starts\n",
      "func_c strats\n"
     ]
    },
    {
     "data": {
      "text/plain": [
       "6"
      ]
     },
     "execution_count": 2,
     "metadata": {},
     "output_type": "execute_result"
    }
   ],
   "source": [
    "a = 0                          # defining the a=0 outside the function, so it is a global variable \n",
    "def b():  #defining a function called b()\n",
    "    print(\"func_b starts\")\n",
    "    global a       # declare that a is a global veriable and referred to the a=o defined at the begining of the code\n",
    "    a = c(a)  # calls the c(a) function and return and assign the value to the global variable \n",
    "    print(\"func_c strats\")\n",
    "def c(a):\n",
    "    return a + 2 # function c(a) add 2 to the global veriable and return value\n",
    "b()\n",
    "b()\n",
    "b()\n",
    "#when function b called first time, it calls function c(a) which add 2 to the global veriable a, so 0+2 = 2, and assign the value to \"a\"\n",
    "#when b() is called second time, it again calls c(a) and 2 to the golbal veriable a, which equal to 2 now. so 2+2 = 4.\n",
    "#when b() is called third time, it again calls c(a) and 2 to the global veriable a, which equal to 4 now. so 4+2=6.\n",
    "#Therefore, at the end, value of a is 6.\n",
    "a"
   ]
  },
  {
   "cell_type": "markdown",
   "id": "a9b7ce44",
   "metadata": {},
   "source": [
    "# Question 02"
   ]
  },
  {
   "cell_type": "code",
   "execution_count": 3,
   "id": "f665ffd2",
   "metadata": {},
   "outputs": [
    {
     "name": "stdout",
     "output_type": "stream",
     "text": [
      "123\n",
      "File idterm.py not found.\n"
     ]
    }
   ],
   "source": [
    "def fileLength(filename):\n",
    "    try:\n",
    "        infile = open(filename)\n",
    "        content = infile.read()\n",
    "        length = len(content)\n",
    "        infile.close()\n",
    "        return length\n",
    "    except FileNotFoundError:\n",
    "        print(f\"File {filename} not found.\")\n",
    "        \n",
    "        \n",
    "print(fileLength('midterm.py'))\n",
    "fileLength('idterm.py')\n",
    "\n"
   ]
  },
  {
   "cell_type": "markdown",
   "id": "476ff6cd",
   "metadata": {},
   "source": [
    "# Question 03"
   ]
  },
  {
   "cell_type": "code",
   "execution_count": 4,
   "id": "20454a7a",
   "metadata": {},
   "outputs": [
    {
     "name": "stdout",
     "output_type": "stream",
     "text": [
      "['doll', 'firetruck', 'kitten']\n",
      "I am a Kangaroo located at coordinates 0,0 \n",
      "['doll', 'firetruck', 'kitten']\n",
      "I am a Kangaroo located at coordinates 3,0 \n"
     ]
    }
   ],
   "source": [
    "class Marsupial:\n",
    "    def __init__(self):\n",
    "        self.pouch = []\n",
    "        \n",
    "    \n",
    "    def put_in_pouch(self, item):\n",
    "        self.item =item\n",
    "        self.pouch.append(self.item)\n",
    "        \n",
    "    def pouch_content(self):\n",
    "        return self.pouch \n",
    "    \n",
    "m = Marsupial()\n",
    "m.put_in_pouch(\"doll\")\n",
    "m.put_in_pouch('firetruck')\n",
    "m.put_in_pouch('kitten')\n",
    "print (m.pouch_content())\n",
    "\n",
    "class Kangaroo(Marsupial):\n",
    "    def __init__(self,x, y):\n",
    "        super().__init__()\n",
    "        self.x=x\n",
    "        self.y=y\n",
    "        \n",
    "       \n",
    "    def jump(self, dx, dy):\n",
    "        self.x += dx\n",
    "        self.y += dy\n",
    "        return self.x, self.y\n",
    "    \n",
    "    def __str__(self):\n",
    "        return f\"I am a Kangaroo located at coordinates {self.x},{self.y} \"\n",
    "        \n",
    "    \n",
    "k= Kangaroo(0,0)\n",
    "print (k)\n",
    "k.put_in_pouch('doll')\n",
    "k.put_in_pouch('firetruck')\n",
    "k.put_in_pouch('kitten')\n",
    "print(k.pouch_content())\n",
    "k.jump(1,0)\n",
    "k.jump(1,0)\n",
    "k.jump(1,0)\n",
    "print(k)"
   ]
  },
  {
   "cell_type": "markdown",
   "id": "73c234c2",
   "metadata": {},
   "source": [
    "# Question 4"
   ]
  },
  {
   "cell_type": "code",
   "execution_count": 5,
   "id": "431bb7be",
   "metadata": {},
   "outputs": [
    {
     "name": "stdout",
     "output_type": "stream",
     "text": [
      "10\n",
      "5\n",
      "16\n",
      "8\n",
      "4\n",
      "2\n",
      "1\n",
      "1\n"
     ]
    },
    {
     "data": {
      "text/plain": [
       "1"
      ]
     },
     "execution_count": 5,
     "metadata": {},
     "output_type": "execute_result"
    }
   ],
   "source": [
    "def collatz(x):\n",
    "    print(x)\n",
    "    if x == 1:\n",
    "        return x\n",
    "    elif x % 2 == 0:\n",
    "        collatz(x//2)  \n",
    "    else:\n",
    "        collatz(3*x + 1)\n",
    "        \n",
    "collatz(10)\n",
    "collatz(1)"
   ]
  },
  {
   "cell_type": "markdown",
   "id": "edd4ad75",
   "metadata": {},
   "source": [
    "# Question 05\n",
    "\n"
   ]
  },
  {
   "cell_type": "code",
   "execution_count": 6,
   "id": "7625bd76",
   "metadata": {},
   "outputs": [
    {
     "name": "stdout",
     "output_type": "stream",
     "text": [
      "0\n",
      "1\n",
      "11\n",
      "1001\n",
      "1\n",
      "11\n",
      "1001\n"
     ]
    }
   ],
   "source": [
    "def binary(n):\n",
    "    n = abs(n)  # Calculate the absolute value of n\n",
    "    if n == 0:\n",
    "        return '0'\n",
    "    elif n == 1:\n",
    "        return '1'\n",
    "    else:\n",
    "        return binary(n // 2) + str(n % 2)\n",
    "\n",
    "print(binary(0))\n",
    "print(binary(1))\n",
    "print(binary(3))\n",
    "print(binary(9))\n",
    "\n",
    "print(binary(-1))\n",
    "print(binary(-3))\n",
    "print(binary(-9))\n",
    "\n",
    "\n",
    "\n"
   ]
  },
  {
   "cell_type": "markdown",
   "id": "f883165b",
   "metadata": {},
   "source": [
    "# Question 08"
   ]
  },
  {
   "cell_type": "code",
   "execution_count": 12,
   "id": "983d8541",
   "metadata": {},
   "outputs": [
    {
     "data": {
      "text/plain": [
       "<sqlite3.Cursor at 0x22416f02ec0>"
      ]
     },
     "execution_count": 12,
     "metadata": {},
     "output_type": "execute_result"
    }
   ],
   "source": [
    "import sqlite3\n",
    "con = sqlite3.connect('country.sqldb')\n",
    "cur = con.cursor()\n",
    "cur.execute('''CREATE TABLE weather (city text, country text, season text, temperature real, rainfall real)''')\n",
    "data_values = [\n",
    "                ('Mumbai','India','Winter','24.8','5.9'),\n",
    "                ('Mumbai','India','Spring','28.4','16.2'),\n",
    "                ('Mumbai', 'India', 'Summer','27.9','1549.4'),\n",
    "                ('Mumbai','India','Fall','27.6','346.0'),\n",
    "                ('London','United Kingdom','Winter','4.2','207.7'),\n",
    "                ('London','United Kingdom','Spring','8.3','169.6'),\n",
    "                ('London', 'United Kingdom', 'Summer','15.7','157.0'),\n",
    "                ('London','United Kingdom','Fall','10.4','218.5'),\n",
    "                ('Cairo','Egypt','Winter','30.6','16.5'),\n",
    "                ('Cairo','Egypt','Spring','20.7','6.5'),\n",
    "                ('Cairo', 'Egypt', 'Summer','27.7','0.1'),\n",
    "                ('Cairo','Egypt','Fall','22.2','4.5'),\n",
    "                ]\n",
    "cur.executemany(\"INSERT INTO weather VALUES (?,?,?,?,?)\", data_values )\n"
   ]
  },
  {
   "cell_type": "code",
   "execution_count": 13,
   "id": "834037df",
   "metadata": {},
   "outputs": [
    {
     "name": "stdout",
     "output_type": "stream",
     "text": [
      "(24.8,)\n",
      "(28.4,)\n",
      "(27.9,)\n",
      "(27.6,)\n",
      "(4.2,)\n",
      "(8.3,)\n",
      "(15.7,)\n",
      "(10.4,)\n",
      "(30.6,)\n",
      "(20.7,)\n",
      "(27.7,)\n",
      "(22.2,)\n"
     ]
    }
   ],
   "source": [
    "cur.execute('SELECT temperature FROM weather')\n",
    "temp_data= cur.fetchall()\n",
    "\n",
    "for temp in temp_data:\n",
    "    print(temp)"
   ]
  },
  {
   "cell_type": "code",
   "execution_count": 14,
   "id": "f55298f0",
   "metadata": {},
   "outputs": [
    {
     "name": "stdout",
     "output_type": "stream",
     "text": [
      "('Mumbai', 'India', 'Winter', 24.8, 5.9)\n",
      "('Mumbai', 'India', 'Spring', 28.4, 16.2)\n",
      "('Mumbai', 'India', 'Summer', 27.9, 1549.4)\n",
      "('Mumbai', 'India', 'Fall', 27.6, 346.0)\n",
      "('London', 'United Kingdom', 'Winter', 4.2, 207.7)\n",
      "('London', 'United Kingdom', 'Spring', 8.3, 169.6)\n",
      "('London', 'United Kingdom', 'Summer', 15.7, 157.0)\n",
      "('London', 'United Kingdom', 'Fall', 10.4, 218.5)\n",
      "('Cairo', 'Egypt', 'Winter', 30.6, 16.5)\n",
      "('Cairo', 'Egypt', 'Spring', 20.7, 6.5)\n",
      "('Cairo', 'Egypt', 'Summer', 27.7, 0.1)\n",
      "('Cairo', 'Egypt', 'Fall', 22.2, 4.5)\n"
     ]
    }
   ],
   "source": [
    "# All the temperature data.\n",
    "cur.execute('SELECT * FROM weather')\n",
    "\n",
    "items= cur.fetchall()\n",
    "\n",
    "for item in items:\n",
    "    print(item)\n"
   ]
  },
  {
   "cell_type": "code",
   "execution_count": 15,
   "id": "5076adbd",
   "metadata": {},
   "outputs": [
    {
     "name": "stdout",
     "output_type": "stream",
     "text": [
      "('Mumbai',)\n",
      "('London',)\n",
      "('Cairo',)\n"
     ]
    }
   ],
   "source": [
    "# All the cities, but without repetition.\n",
    "\n",
    "cur.execute('SELECT DISTINCT city FROM weather')\n",
    "cities = cur.fetchall()\n",
    "\n",
    "\n",
    "for city in cities:\n",
    "    print(city)"
   ]
  },
  {
   "cell_type": "code",
   "execution_count": 16,
   "id": "98609fd9",
   "metadata": {},
   "outputs": [
    {
     "name": "stdout",
     "output_type": "stream",
     "text": [
      "('Mumbai', 'India', 'Winter', 24.8, 5.9)\n",
      "('Mumbai', 'India', 'Spring', 28.4, 16.2)\n",
      "('Mumbai', 'India', 'Summer', 27.9, 1549.4)\n",
      "('Mumbai', 'India', 'Fall', 27.6, 346.0)\n"
     ]
    }
   ],
   "source": [
    "# All the records for India.\n",
    "\n",
    "cur.execute('SELECT * FROM weather WHERE country = \"India\"')\n",
    "india_records = cur.fetchall()\n",
    "\n",
    "\n",
    "for record in india_records:\n",
    "    print(record)"
   ]
  },
  {
   "cell_type": "code",
   "execution_count": 17,
   "id": "925965f0",
   "metadata": {},
   "outputs": [
    {
     "name": "stdout",
     "output_type": "stream",
     "text": [
      "('Mumbai', 'India', 'Fall', 27.6, 346.0)\n",
      "('London', 'United Kingdom', 'Fall', 10.4, 218.5)\n",
      "('Cairo', 'Egypt', 'Fall', 22.2, 4.5)\n"
     ]
    }
   ],
   "source": [
    "# All the Fall records\n",
    "cur.execute('SELECT * FROM weather WHERE season = \"Fall\"')\n",
    "fall_records = cur.fetchall()\n",
    "\n",
    "\n",
    "for record in fall_records:\n",
    "    print(record)"
   ]
  },
  {
   "cell_type": "code",
   "execution_count": 18,
   "id": "e1664730",
   "metadata": {},
   "outputs": [
    {
     "name": "stdout",
     "output_type": "stream",
     "text": [
      "City: London, Country: United Kingdom, Season: Fall\n",
      "City: London, Country: United Kingdom, Season: Winter\n",
      "City: Mumbai, Country: India, Season: Fall\n"
     ]
    }
   ],
   "source": [
    "#The city, country, and season for which the average rainfall is between 200 and 400 millimeters.\n",
    "\n",
    "cur.execute('''SELECT city, country, season\n",
    "                  FROM weather\n",
    "                  GROUP BY city, country, season\n",
    "                  HAVING AVG(rainfall) BETWEEN 200 AND 400''')\n",
    "result = cur.fetchall()\n",
    "\n",
    "\n",
    "for row in result:\n",
    "    print(f\"City: {row[0]}, Country: {row[1]}, Season: {row[2]}\")"
   ]
  },
  {
   "cell_type": "code",
   "execution_count": 19,
   "id": "76c92ab4",
   "metadata": {},
   "outputs": [
    {
     "name": "stdout",
     "output_type": "stream",
     "text": [
      "City: Cairo, Country: Egypt\n",
      "City: Mumbai, Country: India\n"
     ]
    }
   ],
   "source": [
    "#The city and country for which the average Fall temperature is above 20 degrees, in increasing temperature order.\n",
    "\n",
    "cur.execute('''SELECT city, country\n",
    "                  FROM weather\n",
    "                  WHERE season = 'Fall'\n",
    "                  GROUP BY city, country\n",
    "                  HAVING AVG(temperature) > 20\n",
    "                  ORDER BY AVG(temperature) ASC''')\n",
    "result = cur.fetchall()\n",
    "\n",
    "\n",
    "for row in result:\n",
    "    print(f\"City: {row[0]}, Country: {row[1]}\")"
   ]
  },
  {
   "cell_type": "code",
   "execution_count": 20,
   "id": "cdee23af",
   "metadata": {},
   "outputs": [
    {
     "name": "stdout",
     "output_type": "stream",
     "text": [
      "Total annual rainfall for Cairo: 27.6 millimeters\n"
     ]
    }
   ],
   "source": [
    "#The total annual rainfall for Cairo.\n",
    "\n",
    "cur.execute('''SELECT SUM(rainfall)\n",
    "                  FROM weather\n",
    "                  WHERE city = 'Cairo' ''')\n",
    "result = cur.fetchone()\n",
    "\n",
    "\n",
    "print(f\"Total annual rainfall for Cairo: {result[0]} millimeters\")"
   ]
  },
  {
   "cell_type": "code",
   "execution_count": 21,
   "id": "c6171014",
   "metadata": {},
   "outputs": [
    {
     "name": "stdout",
     "output_type": "stream",
     "text": [
      "Season: Fall, Total Rainfall: 569.0 millimeters\n",
      "Season: Spring, Total Rainfall: 192.29999999999998 millimeters\n",
      "Season: Summer, Total Rainfall: 1706.5 millimeters\n",
      "Season: Winter, Total Rainfall: 230.1 millimeters\n"
     ]
    }
   ],
   "source": [
    "#The total rainfall for each season.\n",
    "\n",
    "cur.execute('''SELECT season, SUM(rainfall)\n",
    "                  FROM weather\n",
    "                  GROUP BY season''')\n",
    "result = cur.fetchall()\n",
    "\n",
    "\n",
    "for row in result:\n",
    "    print(f\"Season: {row[0]}, Total Rainfall: {row[1]} millimeters\")"
   ]
  },
  {
   "cell_type": "markdown",
   "id": "cd690caf",
   "metadata": {},
   "source": [
    "# Question 09"
   ]
  },
  {
   "cell_type": "code",
   "execution_count": 8,
   "id": "29764c4c",
   "metadata": {},
   "outputs": [
    {
     "name": "stdout",
     "output_type": "stream",
     "text": [
      "['THE', 'QUICK', 'BROWN', 'FOX', 'JUMPS', 'OVER', 'THE', 'LAZY', 'DOG']\n"
     ]
    }
   ],
   "source": [
    "words = ['The', 'quick', 'brown', 'fox', 'jumps', 'over', 'the', 'lazy', 'dog']\n",
    "result = [word.upper() for word in words]\n",
    "print(result)\n"
   ]
  },
  {
   "cell_type": "code",
   "execution_count": 9,
   "id": "6a1a4079",
   "metadata": {},
   "outputs": [
    {
     "name": "stdout",
     "output_type": "stream",
     "text": [
      "['the', 'quick', 'brown', 'fox', 'jumps', 'over', 'the', 'lazy', 'dog']\n",
      "[3, 5, 5, 3, 5, 4, 3, 4, 3]\n"
     ]
    }
   ],
   "source": [
    "\n",
    "result1 = [word.lower() for word in words]\n",
    "print(result1)\n",
    "result2 = [len(word) for word in words]\n",
    "print(result2)\n"
   ]
  },
  {
   "cell_type": "code",
   "execution_count": 10,
   "id": "e7857b5f",
   "metadata": {},
   "outputs": [
    {
     "name": "stdout",
     "output_type": "stream",
     "text": [
      "[['THE', 'the', 3], ['QUICK', 'quick', 5], ['BROWN', 'brown', 5], ['FOX', 'fox', 3], ['JUMPS', 'jumps', 5], ['OVER', 'over', 4], ['THE', 'the', 3], ['LAZY', 'lazy', 4], ['DOG', 'dog', 3]]\n"
     ]
    }
   ],
   "source": [
    "morewords = []\n",
    "for word in words:\n",
    "        morewords.append([word.upper(), word.lower(), len(word)])\n",
    "print(morewords)\n"
   ]
  },
  {
   "cell_type": "code",
   "execution_count": 11,
   "id": "5cce63fb",
   "metadata": {},
   "outputs": [
    {
     "name": "stdout",
     "output_type": "stream",
     "text": [
      "['quick', 'brown', 'jumps', 'over', 'lazy']\n"
     ]
    }
   ],
   "source": [
    "bigWords = []\n",
    "for word in words:\n",
    "    if len(word) >= 4:\n",
    "        bigWords.append(word)\n",
    "        \n",
    "print(bigWords)"
   ]
  },
  {
   "cell_type": "code",
   "execution_count": null,
   "id": "abcff1ce",
   "metadata": {},
   "outputs": [],
   "source": []
  }
 ],
 "metadata": {
  "kernelspec": {
   "display_name": "Python 3 (ipykernel)",
   "language": "python",
   "name": "python3"
  },
  "language_info": {
   "codemirror_mode": {
    "name": "ipython",
    "version": 3
   },
   "file_extension": ".py",
   "mimetype": "text/x-python",
   "name": "python",
   "nbconvert_exporter": "python",
   "pygments_lexer": "ipython3",
   "version": "3.10.9"
  }
 },
 "nbformat": 4,
 "nbformat_minor": 5
}
